{
 "cells": [
  {
   "cell_type": "code",
   "execution_count": 2,
   "id": "c48c219c",
   "metadata": {},
   "outputs": [],
   "source": [
    "import numpy as np"
   ]
  },
  {
   "cell_type": "code",
   "execution_count": 5,
   "id": "162c8e34",
   "metadata": {},
   "outputs": [
    {
     "name": "stdout",
     "output_type": "stream",
     "text": [
      "Weight matrix : \n",
      " [[1 0 0]\n",
      " [1 0 0]\n",
      " [1 1 0]\n",
      " [0 1 0]\n",
      " [0 1 0]]\n",
      "Input vector: [1 1 1 0 0]\n",
      "Output vector: [3 1 0]\n"
     ]
    }
   ],
   "source": [
    "# Define the pairs of input and output vectors\n",
    "input_vectors = np.array([[1, 1, 1, 0, 0],\n",
    "                          [0, 0, 1, 1, 1]])\n",
    "output_vectors = np.array([[1, 0, 0],\n",
    "                           [0, 1, 0]])\n",
    "\n",
    "# Compute the weight matrix\n",
    "weight_matrix = np.dot(input_vectors.T, output_vectors)\n",
    "\n",
    "# Define the BAM function\n",
    "def BAM(input_vector):\n",
    "    output_vector = np.dot(input_vector, weight_matrix)\n",
    "    return output_vector\n",
    "\n",
    "#Testing\n",
    "input_vector = input_vectors[0]\n",
    "output_vector = BAM(input_vector)\n",
    "\n",
    "# Print the input and output vectors\n",
    "print(\"Weight matrix : \\n\",weight_matrix)\n",
    "print(\"Input vector:\", input_vector)\n",
    "print(\"Output vector:\", output_vector)"
   ]
  },
  {
   "cell_type": "code",
   "execution_count": null,
   "id": "f548936f",
   "metadata": {},
   "outputs": [],
   "source": []
  }
 ],
 "metadata": {
  "kernelspec": {
   "display_name": "Python 3 (ipykernel)",
   "language": "python",
   "name": "python3"
  },
  "language_info": {
   "codemirror_mode": {
    "name": "ipython",
    "version": 3
   },
   "file_extension": ".py",
   "mimetype": "text/x-python",
   "name": "python",
   "nbconvert_exporter": "python",
   "pygments_lexer": "ipython3",
   "version": "3.9.7"
  }
 },
 "nbformat": 4,
 "nbformat_minor": 5
}
